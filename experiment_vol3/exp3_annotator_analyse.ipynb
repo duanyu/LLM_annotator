{
 "cells": [
  {
   "cell_type": "code",
   "execution_count": 1,
   "id": "d8d3d4d1-6ff5-4040-97ff-811bab8116b0",
   "metadata": {
    "ExecutionIndicator": {
     "show": false
    },
    "execution": {
     "iopub.execute_input": "2023-08-21T02:43:17.479783Z",
     "iopub.status.busy": "2023-08-21T02:43:17.479446Z",
     "iopub.status.idle": "2023-08-21T02:43:17.482912Z",
     "shell.execute_reply": "2023-08-21T02:43:17.482212Z",
     "shell.execute_reply.started": "2023-08-21T02:43:17.479766Z"
    },
    "tags": []
   },
   "outputs": [],
   "source": [
    "# 分析标注结果，包括标注的覆盖率、acc；标注员之间的一致性"
   ]
  },
  {
   "cell_type": "code",
   "execution_count": 26,
   "id": "0fe3297e-26df-4a58-bb5f-13930b17bd45",
   "metadata": {
    "ExecutionIndicator": {
     "show": true
    },
    "execution": {
     "iopub.execute_input": "2023-08-21T07:33:04.267243Z",
     "iopub.status.busy": "2023-08-21T07:33:04.266866Z",
     "iopub.status.idle": "2023-08-21T07:33:04.270748Z",
     "shell.execute_reply": "2023-08-21T07:33:04.269930Z",
     "shell.execute_reply.started": "2023-08-21T07:33:04.267222Z"
    },
    "tags": []
   },
   "outputs": [],
   "source": [
    "from sklearn.metrics import cohen_kappa_score, accuracy_score\n",
    "import json\n",
    "import numpy as np"
   ]
  },
  {
   "cell_type": "code",
   "execution_count": 42,
   "id": "53d9f9f6-8dbd-4d58-9076-03d47f637066",
   "metadata": {
    "ExecutionIndicator": {
     "show": true
    },
    "execution": {
     "iopub.execute_input": "2023-08-21T07:49:09.189600Z",
     "iopub.status.busy": "2023-08-21T07:49:09.189209Z",
     "iopub.status.idle": "2023-08-21T07:49:09.192981Z",
     "shell.execute_reply": "2023-08-21T07:49:09.192206Z",
     "shell.execute_reply.started": "2023-08-21T07:49:09.189577Z"
    },
    "tags": []
   },
   "outputs": [],
   "source": [
    "DATASET = 'tnews'\n",
    "split = 'train'\n",
    "compare_model = ['paddle_nlp', 'gt'] #[chatglm2-6b, qwen-7b-chat, siamese_uninlu, paddle_nlp, gt(需要放到第二个位置）]"
   ]
  },
  {
   "cell_type": "code",
   "execution_count": 43,
   "id": "2573fdf4-2e2d-4258-aae8-505e7c178ff0",
   "metadata": {
    "ExecutionIndicator": {
     "show": true
    },
    "execution": {
     "iopub.execute_input": "2023-08-21T07:49:09.339477Z",
     "iopub.status.busy": "2023-08-21T07:49:09.339137Z",
     "iopub.status.idle": "2023-08-21T07:49:09.343711Z",
     "shell.execute_reply": "2023-08-21T07:49:09.343042Z",
     "shell.execute_reply.started": "2023-08-21T07:49:09.339456Z"
    },
    "tags": []
   },
   "outputs": [],
   "source": [
    "def get_anno(dataset, model_name, split='train'):\n",
    "    res = {}\n",
    "    if model_name == 'gt':\n",
    "        fname = f'/mnt/workspace/exp_dataset/{dataset}/{split}.json'\n",
    "    else:\n",
    "        fname = f'/mnt/workspace/exp_dataset/{dataset}/result_{model_name}_{dataset}_{split}.json'\n",
    "    with open(fname, 'r', encoding='utf-8') as f:\n",
    "        for line in f:\n",
    "            line = json.loads(line.strip())\n",
    "            res[line['sentence']] = line['label']\n",
    "    return res\n",
    "            "
   ]
  },
  {
   "cell_type": "code",
   "execution_count": null,
   "id": "545e61dc-5059-4fa0-a9c8-8450574afad4",
   "metadata": {
    "ExecutionIndicator": {
     "show": true
    },
    "tags": []
   },
   "outputs": [],
   "source": [
    "anno1 = get_anno(DATASET, compare_model[0], split=split)\n",
    "anno2 = get_anno(DATASET, compare_model[1], split=split)\n",
    "\n",
    "intersect_texts = list(set(anno1.keys()) & set(anno2.keys()))\n",
    "union_texts = list(set(anno1.keys()) | set(anno2.keys()))\n",
    "\n",
    "anno1_labels, anno2_labels = [], []\n",
    "for text in intersect_texts:\n",
    "    anno1_labels.append(anno1[text])\n",
    "    anno2_labels.append(anno2[text])\n",
    "\n",
    "if 'gt' == compare_model[1]:\n",
    "    # 输出覆盖率，准确率\n",
    "    print(f'标注员{compare_model[0]}的覆盖率:{len(intersect_texts)/len(union_texts)}, Acc:{accuracy_score(np.array(anno2_labels), np.array(anno1_labels))}')\n",
    "else:\n",
    "    print(f'标注员1:{compare_model[0]}, 共标注结果{len(anno1)}条')\n",
    "    print(f'标注员2:{compare_model[1]}, 共标注结果{len(anno2)}条')\n",
    "    print(f'两个标注员的交集一共{len(intersect_texts)}条数据')\n",
    "    print(f'两个标注员的jaccard系数为{len(intersect_texts)/len(union_texts)}')\n",
    "    print(f'两个标注员的cohen kappa score = {cohen_kappa_score(anno1_labels, anno2_labels)}')\n"
   ]
  },
  {
   "cell_type": "code",
   "execution_count": null,
   "id": "463a7a4b-0cda-44ba-aaf2-15a8c078ddaa",
   "metadata": {},
   "outputs": [],
   "source": []
  },
  {
   "cell_type": "code",
   "execution_count": null,
   "id": "301cba60-e149-4e10-98d2-11875e83c064",
   "metadata": {},
   "outputs": [],
   "source": []
  }
 ],
 "metadata": {
  "kernelspec": {
   "display_name": "Python 3 (ipykernel)",
   "language": "python",
   "name": "python3"
  },
  "language_info": {
   "codemirror_mode": {
    "name": "ipython",
    "version": 3
   },
   "file_extension": ".py",
   "mimetype": "text/x-python",
   "name": "python",
   "nbconvert_exporter": "python",
   "pygments_lexer": "ipython3",
   "version": "3.8.16"
  }
 },
 "nbformat": 4,
 "nbformat_minor": 5
}
