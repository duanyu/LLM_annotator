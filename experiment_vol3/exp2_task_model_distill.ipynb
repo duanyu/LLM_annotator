{
 "cells": [
  {
   "cell_type": "code",
   "execution_count": 1,
   "id": "c9d28a52-fdb1-4641-9788-bf5d15968193",
   "metadata": {
    "execution": {
     "iopub.execute_input": "2023-08-21T02:36:08.768724Z",
     "iopub.status.busy": "2023-08-21T02:36:08.768425Z",
     "iopub.status.idle": "2023-08-21T02:36:08.772190Z",
     "shell.execute_reply": "2023-08-21T02:36:08.771299Z",
     "shell.execute_reply.started": "2023-08-21T02:36:08.768708Z"
    },
    "tags": []
   },
   "outputs": [],
   "source": [
    "# 基于标注结果，训练任务模型"
   ]
  },
  {
   "cell_type": "code",
   "execution_count": null,
   "id": "ba4d7617-1ccd-499c-8cf1-621f6f3d612e",
   "metadata": {
    "ExecutionIndicator": {
     "show": true
    },
    "tags": []
   },
   "outputs": [],
   "source": [
    "import os, json\n",
    "from modelscope.msdatasets import MsDataset\n",
    "from modelscope.trainers import build_trainer\n",
    "\n",
    "import warnings\n",
    "warnings.filterwarnings('ignore')"
   ]
  },
  {
   "cell_type": "code",
   "execution_count": 2,
   "id": "6315b0e3-7867-48d2-a015-43a8d1e6fb74",
   "metadata": {
    "ExecutionIndicator": {
     "show": true
    },
    "execution": {
     "iopub.execute_input": "2023-08-21T09:15:09.101629Z",
     "iopub.status.busy": "2023-08-21T09:15:09.101168Z",
     "iopub.status.idle": "2023-08-21T09:15:09.105526Z",
     "shell.execute_reply": "2023-08-21T09:15:09.104677Z",
     "shell.execute_reply.started": "2023-08-21T09:15:09.101601Z"
    },
    "tags": []
   },
   "outputs": [],
   "source": [
    "MODEL_NAME = 'paddle_nlp' # [chatglm2-6b, qwen-7b-chat, siamese_uninlu, paddle_nlp, ensemble_MajorityVote, ensemble_LabelModel]\n",
    "DATASET = 'tnews'\n",
    "TRAIN_TYPE = 1 # 1 - 训练和验证都用自动标注结果；2 - 训练用自动标注，验证用clean数据；3 - 训练和验证都用clean数据"
   ]
  },
  {
   "cell_type": "code",
   "execution_count": null,
   "id": "b11afa9c-26f6-4724-a41c-0395c6c1cad5",
   "metadata": {
    "ExecutionIndicator": {
     "show": true
    },
    "scrolled": true,
    "tags": []
   },
   "outputs": [],
   "source": [
    "# 读取train、val、test\n",
    "\n",
    "if TRAIN_TYPE == 1:\n",
    "    train = MsDataset.load(f'exp_dataset/{DATASET}/result_{MODEL_NAME}_{DATASET}_train.json')\n",
    "    val = MsDataset.load(f'exp_dataset/{DATASET}/result_{MODEL_NAME}_{DATASET}_val.json')\n",
    "elif TRAIN_TYPE == 2:\n",
    "    train = MsDataset.load(f'exp_dataset/{DATASET}/result_{MODEL_NAME}_{DATASET}_train.json')\n",
    "    val = MsDataset.load(f'exp_dataset/{DATASET}/val.json')\n",
    "elif TRAIN_TYPE == 3:\n",
    "    train = MsDataset.load(f'exp_dataset/{DATASET}/train.json')\n",
    "    val = MsDataset.load(f'exp_dataset/{DATASET}/val.json')\n",
    "    \n",
    "test = MsDataset.load(f'exp_dataset/{DATASET}/test.json')\n",
    "print('数据集加载完成')\n"
   ]
  },
  {
   "cell_type": "code",
   "execution_count": null,
   "id": "27c6e9a0-5f49-4f0d-9071-da60005f55f4",
   "metadata": {
    "ExecutionIndicator": {
     "show": true
    },
    "scrolled": true,
    "tags": []
   },
   "outputs": [],
   "source": [
    "# 训练模型\n",
    "\n",
    "# 训练参数\n",
    "max_epoch = 20\n",
    "optimizer_name = 'Adam'\n",
    "\n",
    "batch_size = 32\n",
    "lr_list = [1e-5, 2e-5, 3e-5, 4e-5, 5e-5]\n",
    "\n",
    "for lr_index in [0, 1, 2, 3, 4]:\n",
    "    lr = lr_list[lr_index]\n",
    "\n",
    "    # 文件路径\n",
    "    if TRAIN_TYPE == 3:\n",
    "        # 与标注器无关\n",
    "        model_path = f'/mnt/workspace/saved_model/{DATASET}/train_type{TRAIN_TYPE}_{lr}_{batch_size}/'\n",
    "    else:\n",
    "        model_path = f'/mnt/workspace/saved_model/{DATASET}/{MODEL_NAME}/train_type{TRAIN_TYPE}_{lr}_{batch_size}/'\n",
    "\n",
    "    tensorboard_path = model_path + 'tensorboard_output/'\n",
    "\n",
    "    def cfg_modify_fn_tnews(cfg):\n",
    "        cfg.task = 'text-classification'\n",
    "        cfg.pipeline = {'type': 'text-classification'}\n",
    "        cfg.preprocessor = {\n",
    "            'train': {\n",
    "                # 配置预处理器名字\n",
    "                'type': 'sen-cls-tokenizer',\n",
    "                # 配置句子1的key\n",
    "                'first_sequence': 'sentence',\n",
    "                # 配置label\n",
    "                'label': 'label',\n",
    "                # 配置mode\n",
    "                'mode': 'train',\n",
    "            },\n",
    "            'val': {\n",
    "                # 配置预处理器名字\n",
    "                'type': 'sen-cls-tokenizer',\n",
    "                # 配置句子1的key\n",
    "                'first_sequence': 'sentence',\n",
    "                # 配置label\n",
    "                'label': 'label',\n",
    "                'mode': 'eval',\n",
    "            }\n",
    "        }\n",
    "\n",
    "        cfg.model['num_labels'] = 15\n",
    "\n",
    "        cfg['train'] = {\n",
    "            \"work_dir\": model_path,\n",
    "            \"max_epochs\": max_epoch,\n",
    "            \"dataloader\": {\n",
    "                # batch_size\n",
    "                \"batch_size_per_gpu\": 32,\n",
    "                \"workers_per_gpu\": 0\n",
    "            },\n",
    "            \"optimizer\": {\n",
    "                # optimizer信息\n",
    "                \"type\": optimizer_name,\n",
    "                \"lr\": lr\n",
    "            },\n",
    "            \"lr_scheduler\": {\n",
    "                \"type\": \"StepLR\",\n",
    "                \"step_size\": max_epoch + 1 \n",
    "            },\n",
    "            \"hooks\": [{\n",
    "                \"type\": \"EvaluationHook\",\n",
    "                \"interval\": 1,\n",
    "                \"by_epoch\": True,\n",
    "            }, {\n",
    "                \"out_dir\": tensorboard_path,\n",
    "                \"type\": \"TensorboardHook\",\n",
    "                \"interval\": 10\n",
    "            }, {\n",
    "                \"type\": \"BestCkptSaverHook\",\n",
    "                \"interval\": 1,\n",
    "                \"by_epoch\": True,\n",
    "                \"metric_key\": \"accuracy\",\n",
    "                \"rule\": \"max\",\n",
    "                \"max_checkpoint_num\":1\n",
    "            }, {\n",
    "                \"type\": \"TextLoggerHook\",\n",
    "                \"interval\": 10\n",
    "            }]\n",
    "        }\n",
    "        cfg['evaluation'] = {\n",
    "            \"dataloader\": {\n",
    "                # batch_size\n",
    "                \"batch_size_per_gpu\": 32,\n",
    "                \"workers_per_gpu\": 0,\n",
    "                \"shuffle\": False\n",
    "            },\n",
    "            \"metrics\": [{\n",
    "                \"type\": \"seq-cls-metric\",\n",
    "                \"label_name\": \"labels\",\n",
    "                \"logit_name\": \"logits\",\n",
    "            }]\n",
    "        }\n",
    "        return cfg\n",
    "\n",
    "\n",
    "    kwargs = dict(\n",
    "        model='damo/nlp_structbert_backbone_base_std',\n",
    "        train_dataset=train,\n",
    "        eval_dataset=val,\n",
    "        cfg_modify_fn=cfg_modify_fn_tnews)\n",
    "\n",
    "    os.environ['LOCAL_RANK'] = '0'\n",
    "    trainer = build_trainer(name='trainer', default_args=kwargs)\n",
    "    trainer.train()\n",
    "    \n",
    "    # 在测试集上跑结果\n",
    "    kwargs = dict(\n",
    "            model=model_path+'output_best/',\n",
    "            eval_dataset=test)\n",
    "    trainer = build_trainer(default_args=kwargs)\n",
    "    eval_res = trainer.evaluate()\n",
    "    print('test_result', eval_res)"
   ]
  },
  {
   "cell_type": "code",
   "execution_count": null,
   "id": "ec9dd390-1e34-4813-9aef-c5364b47a86d",
   "metadata": {},
   "outputs": [],
   "source": []
  },
  {
   "cell_type": "code",
   "execution_count": null,
   "id": "f77ca69e-92fd-4b5d-9ce4-5e86654b781c",
   "metadata": {},
   "outputs": [],
   "source": []
  },
  {
   "cell_type": "code",
   "execution_count": null,
   "id": "596f1571-809d-400d-91d5-8427d9ccf12c",
   "metadata": {},
   "outputs": [],
   "source": []
  }
 ],
 "metadata": {
  "kernelspec": {
   "display_name": "Python 3 (ipykernel)",
   "language": "python",
   "name": "python3"
  },
  "language_info": {
   "codemirror_mode": {
    "name": "ipython",
    "version": 3
   },
   "file_extension": ".py",
   "mimetype": "text/x-python",
   "name": "python",
   "nbconvert_exporter": "python",
   "pygments_lexer": "ipython3",
   "version": "3.8.16"
  }
 },
 "nbformat": 4,
 "nbformat_minor": 5
}
